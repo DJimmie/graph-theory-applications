{
 "cells": [
  {
   "cell_type": "code",
   "execution_count": null,
   "metadata": {},
   "outputs": [],
   "source": []
  },
  {
   "cell_type": "code",
   "execution_count": 1,
   "metadata": {},
   "outputs": [
    {
     "data": {
      "application/vnd.jupyter.widget-view+json": {
       "model_id": "1d5e53a0552f4f0590e769c7c8d9e435",
       "version_major": 2,
       "version_minor": 0
      },
      "text/plain": [
       "Motif(value=None, state={'data': [], 'style': {}})"
      ]
     },
     "metadata": {},
     "output_type": "display_data"
    }
   ],
   "source": [
    "from pymotif import Motif\n",
    "import pandas as pd\n",
    "import networkx as nx\n",
    "\n",
    "# read transaction file\n",
    "# df = pd.read_csv('hctc_sensors.csv')\n",
    "# df.head(10)\n",
    "m = Motif()\n",
    "m"
   ]
  }
 ],
 "metadata": {
  "interpreter": {
   "hash": "6cd25c5a995ee650d454905a69e2bd5b0917896c03039f20bd86001f07e2c315"
  },
  "kernelspec": {
   "display_name": "Python 3.8.6 64-bit ('venv': venv)",
   "language": "python",
   "name": "python3"
  },
  "language_info": {
   "codemirror_mode": {
    "name": "ipython",
    "version": 3
   },
   "file_extension": ".py",
   "mimetype": "text/x-python",
   "name": "python",
   "nbconvert_exporter": "python",
   "pygments_lexer": "ipython3",
   "version": "3.8.6"
  },
  "orig_nbformat": 4
 },
 "nbformat": 4,
 "nbformat_minor": 2
}
