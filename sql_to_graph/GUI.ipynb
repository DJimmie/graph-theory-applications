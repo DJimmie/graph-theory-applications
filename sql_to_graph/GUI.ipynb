{
 "cells": [
  {
   "cell_type": "markdown",
   "metadata": {},
   "source": [
    "# Build GUI"
   ]
  },
  {
   "cell_type": "markdown",
   "metadata": {},
   "source": []
  },
  {
   "cell_type": "markdown",
   "metadata": {},
   "source": [
    "## Dependancies"
   ]
  },
  {
   "cell_type": "code",
   "execution_count": 1,
   "metadata": {},
   "outputs": [
    {
     "data": {
      "text/html": [
       "<pre style=\"white-space:pre;overflow-x:auto;line-height:normal;font-family:Menlo,'DejaVu Sans Mono',consolas,'Courier New',monospace\"><span style=\"color: #7fbfbf; text-decoration-color: #7fbfbf\">[06:39:45] </span>Dependancies loaded                           <a href=\"file://C:\\Users\\dowdj\\AppData\\Local\\Temp\\ipykernel_6864\\3020535977.py\"><span style=\"color: #7f7f7f; text-decoration-color: #7f7f7f\">Temp/ipykernel_6864/3020535977.py</span></a><span style=\"color: #7f7f7f; text-decoration-color: #7f7f7f\">:57</span>\n",
       "</pre>\n"
      ],
      "text/plain": [
       "\u001b[2;36m[06:39:45]\u001b[0m\u001b[2;36m \u001b[0mDependancies loaded                           \u001b]8;id=316048;file://C:\\Users\\dowdj\\AppData\\Local\\Temp\\ipykernel_6864\\3020535977.py\u001b\\\u001b[2mTemp/ipykernel_6864/3020535977.py\u001b[0m\u001b]8;;\u001b\\\u001b[2m:57\u001b[0m\n"
      ]
     },
     "metadata": {},
     "output_type": "display_data"
    }
   ],
   "source": [
    "import pandas as pd\n",
    "import numpy as np\n",
    "import datetime as dt\n",
    "\n",
    "import re\n",
    "import sqlite3\n",
    "import os\n",
    "import sys\n",
    "import time\n",
    "import json\n",
    "\n",
    "from support_pkg import gui_build as gb\n",
    "from support_pkg import file_access as fac\n",
    "# from support_pkg import program_work_dir as pwd\n",
    "\n",
    "# import graph_data as gd\n",
    "# import graph_operations as gops\n",
    "# import graph_reporting as gr\n",
    "\n",
    "try:\n",
    "    import tkinter.ttk\n",
    "    from tkinter import *\n",
    "#     from tkinter.ttk import *\n",
    "except:\n",
    "    from tkinter import *\n",
    "\n",
    "from tkinter import messagebox\n",
    "from tkinter import filedialog\n",
    "\n",
    "import logging\n",
    "# Create a custom logger\n",
    "logger = logging.getLogger(__name__)\n",
    "logger.setLevel(logging.DEBUG)\n",
    "\n",
    "# logging file handler\n",
    "f_handler = logging.FileHandler('gui.log',mode='w')\n",
    "f_format = logging.Formatter('%(asctime)s - %(name)s - %(levelname)s - %(message)s')\n",
    "f_handler.setFormatter(f_format)\n",
    "f_handler.setLevel(logging.INFO)\n",
    "logger.addHandler(f_handler)\n",
    "\n",
    "# console handler\n",
    "c_handler = logging.StreamHandler()\n",
    "c_handler.setLevel(logging.DEBUG)\n",
    "c_format = logging.Formatter('%(name)s - %(levelname)s - %(message)s')\n",
    "c_handler.setFormatter(c_format)\n",
    "logger.addHandler(c_handler)\n",
    "\n",
    "\n",
    "# logger.debug(\"Dependancies loaded\")\n",
    "\n",
    "\n",
    "from rich.console import Console\n",
    "from rich.traceback import install\n",
    "install()\n",
    "console=Console(record=True)\n",
    "console.log(\"Dependancies loaded\")\n",
    "\n",
    "\n",
    "\n"
   ]
  },
  {
   "cell_type": "code",
   "execution_count": 2,
   "metadata": {},
   "outputs": [
    {
     "name": "stderr",
     "output_type": "stream",
     "text": [
      "__main__ - DEBUG - This is a debug message\n",
      "__main__ - INFO - This is an info message\n",
      "__main__ - WARNING - This is a warning message\n",
      "__main__ - ERROR - This is an error message\n",
      "__main__ - CRITICAL - This is a critical message\n"
     ]
    }
   ],
   "source": [
    "logger.debug('This is a debug message')\n",
    "logger.info('This is an info message')\n",
    "logger.warning('This is a warning message')\n",
    "logger.error('This is an error message')\n",
    "logger.critical('This is a critical message')"
   ]
  },
  {
   "cell_type": "code",
   "execution_count": null,
   "metadata": {},
   "outputs": [],
   "source": []
  },
  {
   "cell_type": "code",
   "execution_count": null,
   "metadata": {},
   "outputs": [],
   "source": []
  },
  {
   "cell_type": "code",
   "execution_count": 3,
   "metadata": {},
   "outputs": [],
   "source": [
    "# GUI WINDOW\n",
    "class UserInterface():\n",
    "    \"\"\"Parent class for the UI. Instantiates the composit Window.\n",
    "    User Interface with fields for entering a data to the database. \n",
    "    \"\"\"\n",
    "    logging.info('UserInterface()')\n",
    "    def __init__(self):\n",
    "        \"\"\"Interface build.\"\"\"\n",
    "\n",
    "        console.log(\"UserInterface()\")\n",
    "        \n",
    "        self.root = gb.Tk()\n",
    "        self.root.withdraw()\n",
    "\n",
    "        self.top = gb.Toplevel(\n",
    "            self.root,\n",
    "            bg='#00008B',\n",
    "            bd=5)\n",
    "        \n",
    "        # self.top.geometry('1200x600')\n",
    "        # self.top.attributes('-fullscreen', True)\n",
    "\n",
    "        self.menubar=gb.Menu(self.top)\n",
    "        self.menubar.add_command(label=\"Exit\",font='ariel',command=self.bye_bye)\n",
    "        self.menubar.add_command(label=\"Instructions\",font='ariel',command=None)\n",
    "        self.top.config(menu=self.menubar)\n",
    "\n",
    "        self.top.protocol(\"WM_DELETE_WINDOW\", self.root.destroy)\n",
    "\n",
    "        # RCAGui(self.top)\n",
    "        self.root.mainloop()\n",
    "\n",
    "    def bye_bye(self):\n",
    "        \"\"\"Close the UI Window on menu Exit\"\"\"\n",
    "        logging.info('Exiting Program')\n",
    "        console.log(\"Exiting Program\")\n",
    "        self.top.destroy()\n",
    "        self.root.destroy()\n"
   ]
  },
  {
   "cell_type": "code",
   "execution_count": 4,
   "metadata": {},
   "outputs": [
    {
     "data": {
      "text/html": [
       "<pre style=\"white-space:pre;overflow-x:auto;line-height:normal;font-family:Menlo,'DejaVu Sans Mono',consolas,'Courier New',monospace\"><span style=\"color: #7fbfbf; text-decoration-color: #7fbfbf\">           </span><span style=\"color: #800080; text-decoration-color: #800080; font-weight: bold\">UserInterface</span><span style=\"font-weight: bold\">()</span>                               <a href=\"file://C:\\Users\\dowdj\\AppData\\Local\\Temp\\ipykernel_6864\\3728308884.py\"><span style=\"color: #7f7f7f; text-decoration-color: #7f7f7f\">Temp/ipykernel_6864/3728308884.py</span></a><span style=\"color: #7f7f7f; text-decoration-color: #7f7f7f\">:10</span>\n",
       "</pre>\n"
      ],
      "text/plain": [
       "\u001b[2;36m          \u001b[0m\u001b[2;36m \u001b[0m\u001b[1;35mUserInterface\u001b[0m\u001b[1m(\u001b[0m\u001b[1m)\u001b[0m                               \u001b]8;id=448306;file://C:\\Users\\dowdj\\AppData\\Local\\Temp\\ipykernel_6864\\3728308884.py\u001b\\\u001b[2mTemp/ipykernel_6864/3728308884.py\u001b[0m\u001b]8;;\u001b\\\u001b[2m:10\u001b[0m\n"
      ]
     },
     "metadata": {},
     "output_type": "display_data"
    }
   ],
   "source": [
    "# MAIN----MAIN\n",
    "if __name__ == \"__main__\":\n",
    "    \n",
    "    UserInterface()"
   ]
  }
 ],
 "metadata": {
  "interpreter": {
   "hash": "fb1f01b2ac49c6986cb90cb43af6d3eba3c40d7520894f59b8a36f023c34ee6d"
  },
  "kernelspec": {
   "display_name": "Python 3.8.6 64-bit ('venv': venv)",
   "name": "python3"
  },
  "language_info": {
   "codemirror_mode": {
    "name": "ipython",
    "version": 3
   },
   "file_extension": ".py",
   "mimetype": "text/x-python",
   "name": "python",
   "nbconvert_exporter": "python",
   "pygments_lexer": "ipython3",
   "version": "3.8.6"
  },
  "orig_nbformat": 4
 },
 "nbformat": 4,
 "nbformat_minor": 2
}
